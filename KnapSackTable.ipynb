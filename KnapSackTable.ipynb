{
  "nbformat": 4,
  "nbformat_minor": 0,
  "metadata": {
    "colab": {
      "provenance": [],
      "authorship_tag": "ABX9TyOtrgsj9y0amsmHr8Itgvs7",
      "include_colab_link": true
    },
    "kernelspec": {
      "name": "python3",
      "display_name": "Python 3"
    },
    "language_info": {
      "name": "python"
    }
  },
  "cells": [
    {
      "cell_type": "markdown",
      "metadata": {
        "id": "view-in-github",
        "colab_type": "text"
      },
      "source": [
        "<a href=\"https://colab.research.google.com/github/kewal-17/dp/blob/main/KnapSackTable.ipynb\" target=\"_parent\"><img src=\"https://colab.research.google.com/assets/colab-badge.svg\" alt=\"Open In Colab\"/></a>"
      ]
    },
    {
      "cell_type": "code",
      "execution_count": 1,
      "metadata": {
        "id": "IGf294ytEIXt"
      },
      "outputs": [],
      "source": [
        "profit = [1,2,5,6]\n",
        "weight = [2,3,4,5]\n",
        "W = 8"
      ]
    },
    {
      "cell_type": "code",
      "source": [
        "def kp_tabular(profit, weight, W):\n",
        "  # can do wihtout this, just change index to i-1 when accessing wt and profit\n",
        "  profit = [0] + profit\n",
        "  weight = [0] + weight\n",
        "  table =[[0 for _ in range(W+1)]for _ in range(len(profit))]\n",
        "  for i in range(len(weight)):\n",
        "    for j in range(W+1):\n",
        "      if i == 0 or j == 0:\n",
        "        table[i][j] = 0\n",
        "      elif weight[i]<= j:\n",
        "        table[i][j] = max(table[i-1][j], table[i-1][j-weight[i]]+profit[i])\n",
        "      else:\n",
        "        table[i][j] = table[i-1][j]\n",
        "  return table"
      ],
      "metadata": {
        "id": "pE81mbGGEYZw"
      },
      "execution_count": null,
      "outputs": []
    },
    {
      "cell_type": "code",
      "source": [
        "table = kp_tabular(profit, weight, W)\n",
        "print(f\"Max profit is: {table[len(profit)][W]}\")"
      ],
      "metadata": {
        "colab": {
          "base_uri": "https://localhost:8080/"
        },
        "id": "5RpbW_ifFBpG",
        "outputId": "cb2d0bb2-0b1b-4e98-8edd-6d29a9200f75"
      },
      "execution_count": null,
      "outputs": [
        {
          "output_type": "stream",
          "name": "stdout",
          "text": [
            "Max profit is: 8\n"
          ]
        }
      ]
    },
    {
      "cell_type": "code",
      "source": [
        "selected_items = []\n",
        "remaining_profit = table[len(profit)][W]\n",
        "for i in range(len(profit)+1, 0, -1):\n",
        "  if remaining_profit not in table[i-1]:\n",
        "    selected_items.append(i)\n",
        "    remaining_profit = remaining_profit - profit[i-1]\n",
        "print(selected_items)"
      ],
      "metadata": {
        "colab": {
          "base_uri": "https://localhost:8080/"
        },
        "id": "EQuy9noDFQif",
        "outputId": "0ae2c323-631f-420b-8c1f-5425a56b09a6"
      },
      "execution_count": null,
      "outputs": [
        {
          "output_type": "stream",
          "name": "stdout",
          "text": [
            "[4, 2]\n"
          ]
        }
      ]
    },
    {
      "cell_type": "code",
      "source": [
        "table"
      ],
      "metadata": {
        "colab": {
          "base_uri": "https://localhost:8080/"
        },
        "id": "mGglB2bZFSGF",
        "outputId": "ac5dbca5-4d96-4739-c74c-942967f838f3"
      },
      "execution_count": null,
      "outputs": [
        {
          "output_type": "execute_result",
          "data": {
            "text/plain": [
              "[[0, 0, 0, 0, 0, 0, 0, 0, 0],\n",
              " [0, 0, 1, 1, 1, 1, 1, 1, 1],\n",
              " [0, 0, 1, 2, 2, 3, 3, 3, 3],\n",
              " [0, 0, 1, 2, 5, 5, 6, 7, 7],\n",
              " [0, 0, 1, 2, 5, 6, 6, 7, 8]]"
            ]
          },
          "metadata": {},
          "execution_count": 88
        }
      ]
    },
    {
      "cell_type": "code",
      "source": [
        "for i in range(len(profit), 0, -1):\n",
        "  print(i)"
      ],
      "metadata": {
        "colab": {
          "base_uri": "https://localhost:8080/"
        },
        "id": "9ICRqpS6FgIG",
        "outputId": "17e0bf34-3f1e-4094-d2a9-e9392613a1ef"
      },
      "execution_count": null,
      "outputs": [
        {
          "output_type": "stream",
          "name": "stdout",
          "text": [
            "4\n",
            "3\n",
            "2\n",
            "1\n"
          ]
        }
      ]
    },
    {
      "cell_type": "code",
      "source": [
        "table[4][8] = 90"
      ],
      "metadata": {
        "id": "_x2FrHUJHHYQ"
      },
      "execution_count": null,
      "outputs": []
    },
    {
      "cell_type": "code",
      "source": [
        "m"
      ],
      "metadata": {
        "colab": {
          "base_uri": "https://localhost:8080/"
        },
        "id": "p1eMOUh6HIdt",
        "outputId": "87f03679-f8b1-46bf-e427-51fdcf8cf5c4"
      },
      "execution_count": null,
      "outputs": [
        {
          "output_type": "execute_result",
          "data": {
            "text/plain": [
              "90"
            ]
          },
          "metadata": {},
          "execution_count": 19
        }
      ]
    },
    {
      "cell_type": "code",
      "source": [],
      "metadata": {
        "id": "16asQiDxHRWx"
      },
      "execution_count": null,
      "outputs": []
    }
  ]
}