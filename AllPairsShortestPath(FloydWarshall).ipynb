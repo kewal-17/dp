{
  "nbformat": 4,
  "nbformat_minor": 0,
  "metadata": {
    "colab": {
      "provenance": [],
      "authorship_tag": "ABX9TyO7uNKkuvPA7xO+j2TI4RrP",
      "include_colab_link": true
    },
    "kernelspec": {
      "name": "python3",
      "display_name": "Python 3"
    },
    "language_info": {
      "name": "python"
    }
  },
  "cells": [
    {
      "cell_type": "markdown",
      "metadata": {
        "id": "view-in-github",
        "colab_type": "text"
      },
      "source": [
        "<a href=\"https://colab.research.google.com/github/kewal-17/dp/blob/main/AllPairsShortestPath(FloydWarshall).ipynb\" target=\"_parent\"><img src=\"https://colab.research.google.com/assets/colab-badge.svg\" alt=\"Open In Colab\"/></a>"
      ]
    },
    {
      "cell_type": "code",
      "source": [
        "A = [[0,3,float(\"inf\"),7],\n",
        "      [8,0,2,float(\"inf\")],\n",
        "      [5,float(\"inf\"),0,1],\n",
        "      [2,float(\"inf\"),float(\"inf\"),0]]"
      ],
      "metadata": {
        "id": "I73WLjTUpy8y"
      },
      "execution_count": null,
      "outputs": []
    },
    {
      "cell_type": "code",
      "source": [
        "def all_pair_shortest_path(A):\n",
        "  nodes = len(A)\n",
        "  for k in range(nodes):\n",
        "    for i in range(nodes):\n",
        "      for j in range(nodes):\n",
        "        A[i][j] = min(A[i][j], A[i][k]+A[k][j])\n",
        "  return A\n"
      ],
      "metadata": {
        "id": "wJLOnL2gkUlK"
      },
      "execution_count": null,
      "outputs": []
    },
    {
      "cell_type": "code",
      "source": [
        "a = all_pair_shortest_path(A)"
      ],
      "metadata": {
        "id": "aighL-j-qReK"
      },
      "execution_count": null,
      "outputs": []
    },
    {
      "cell_type": "code",
      "source": [
        "a"
      ],
      "metadata": {
        "colab": {
          "base_uri": "https://localhost:8080/"
        },
        "id": "TBwP7EcQqUaF",
        "outputId": "effff4e1-c856-4b2d-bf00-6f55cecad922"
      },
      "execution_count": null,
      "outputs": [
        {
          "output_type": "execute_result",
          "data": {
            "text/plain": [
              "[[0, 3, 5, 6], [5, 0, 2, 3], [3, 6, 0, 1], [2, 5, 7, 0]]"
            ]
          },
          "metadata": {},
          "execution_count": 13
        }
      ]
    },
    {
      "cell_type": "code",
      "source": [
        "a"
      ],
      "metadata": {
        "colab": {
          "base_uri": "https://localhost:8080/"
        },
        "id": "o7YSTpUbqeRN",
        "outputId": "651c0c53-4076-4b7e-c028-705cbdfca331"
      },
      "execution_count": null,
      "outputs": [
        {
          "output_type": "execute_result",
          "data": {
            "text/plain": [
              "[[0, 3, 5, 6], [5, 0, 2, 3], [3, 6, 0, 1], [2, 5, 7, 0]]"
            ]
          },
          "metadata": {},
          "execution_count": 16
        }
      ]
    },
    {
      "cell_type": "code",
      "source": [],
      "metadata": {
        "id": "D9eBmiwGqzVU"
      },
      "execution_count": null,
      "outputs": []
    }
  ]
}