{
  "nbformat": 4,
  "nbformat_minor": 0,
  "metadata": {
    "colab": {
      "provenance": [],
      "authorship_tag": "ABX9TyPiJaFiLyJpPSAJSSeR8itL",
      "include_colab_link": true
    },
    "kernelspec": {
      "name": "python3",
      "display_name": "Python 3"
    },
    "language_info": {
      "name": "python"
    }
  },
  "cells": [
    {
      "cell_type": "markdown",
      "metadata": {
        "id": "view-in-github",
        "colab_type": "text"
      },
      "source": [
        "<a href=\"https://colab.research.google.com/github/kewal-17/dp/blob/main/MultiStageGraph.ipynb\" target=\"_parent\"><img src=\"https://colab.research.google.com/assets/colab-badge.svg\" alt=\"Open In Colab\"/></a>"
      ]
    },
    {
      "cell_type": "code",
      "execution_count": null,
      "metadata": {
        "id": "fXh05ARv-EVU"
      },
      "outputs": [],
      "source": [
        "def print_graph(graph):\n",
        "  for stage, edges in graph.items():\n",
        "    print(f\"Stage {stage}:\")\n",
        "    for edge in edges:\n",
        "        node, cost = edge\n",
        "        print(f\"  -> Node {node}, Cost {cost}\")"
      ]
    },
    {
      "cell_type": "code",
      "source": [
        "def multi_stage_graph(graph):\n",
        "  #cost = [0] * len(graph.keys())\n",
        "  cost = {}\n",
        "  destination = {}\n",
        "  for i in range(len(graph.keys()), 0, -1):\n",
        "    cost_values = []\n",
        "    destination_values = []\n",
        "    for vertices in graph[i]:\n",
        "      if len(vertices) == 0:\n",
        "        #cost[i] = 0\n",
        "        cost_values.append(0)\n",
        "        destination_values.append(i)\n",
        "      else:\n",
        "        tup = vertices\n",
        "        cost_values.append(tup[1] + cost[tup[0]])\n",
        "        destination_values.append(tup[0])\n",
        "    cost[i] = min(cost_values) if cost_values else 0\n",
        "    destination[i] = destination_values[cost_values.index(min(cost_values))] if cost_values else i\n",
        "  return (cost, destination)"
      ],
      "metadata": {
        "id": "aSI5V-m44y5U"
      },
      "execution_count": null,
      "outputs": []
    },
    {
      "cell_type": "code",
      "source": [
        "graph_1 = {\n",
        "    1: [(2,2), (3,1), (4,3)],\n",
        "    2: [(5,2), (6,3)],\n",
        "    3: [(5,6), (6,7)],\n",
        "    4: [(5,6), (6,8), (7,9)],\n",
        "    5: [(8,6)],\n",
        "    6: [(8,4)],\n",
        "    7: [(8,5)],\n",
        "    8: []\n",
        "}\n",
        "\n",
        "graph_2 = {\n",
        "    1: [(2,9), (3,7), (4,3), (5,2)],\n",
        "    2: [(6,4), (7,2), (8,1)],\n",
        "    3: [(6,2), (7,7)],\n",
        "    4: [(8,11)],\n",
        "    5: [(7,11), (8,8)],\n",
        "    6: [(9,6), (10,5)],\n",
        "    7: [(9,4), (10,3)],\n",
        "    8: [(10,5), (11,6)],\n",
        "    9: [(12,4)],\n",
        "    10: [(12,2)],\n",
        "    11: [(12,5)],\n",
        "    12: []\n",
        "}"
      ],
      "metadata": {
        "id": "dbhsNa3cxOJv"
      },
      "execution_count": null,
      "outputs": []
    },
    {
      "cell_type": "code",
      "source": [
        "cost, destination = multi_stage_graph(graph_1)"
      ],
      "metadata": {
        "id": "vIiSMGA7xtbU"
      },
      "execution_count": null,
      "outputs": []
    },
    {
      "cell_type": "code",
      "source": [
        "print(cost)\n",
        "print(destination)"
      ],
      "metadata": {
        "colab": {
          "base_uri": "https://localhost:8080/"
        },
        "id": "DGPK1x-2TEAY",
        "outputId": "c5d17e34-4c07-4a23-fdda-57a490214856"
      },
      "execution_count": null,
      "outputs": [
        {
          "output_type": "stream",
          "name": "stdout",
          "text": [
            "{8: 0, 7: 5, 6: 4, 5: 6, 4: 12, 3: 11, 2: 7, 1: 9}\n",
            "{8: 8, 7: 8, 6: 8, 5: 8, 4: 5, 3: 6, 2: 6, 1: 2}\n"
          ]
        }
      ]
    },
    {
      "cell_type": "code",
      "source": [
        "print(\"The shortest path is:\")\n",
        "start_key = 1\n",
        "current_key = start_key\n",
        "path = []\n",
        "while current_key in destination:\n",
        "  path.append(current_key)\n",
        "  if current_key == destination[current_key]:\n",
        "    break\n",
        "  current_key = destination[current_key]\n",
        "print(path)"
      ],
      "metadata": {
        "colab": {
          "base_uri": "https://localhost:8080/"
        },
        "id": "Idej5p-TTbLT",
        "outputId": "976260b2-c434-4a34-b1fd-ac0f96770ed7"
      },
      "execution_count": null,
      "outputs": [
        {
          "output_type": "stream",
          "name": "stdout",
          "text": [
            "The shortest path is:\n",
            "[1, 2, 6, 8]\n"
          ]
        }
      ]
    },
    {
      "cell_type": "code",
      "source": [
        "for i in range(len(graph.keys()), 0, -1):\n",
        "    for vertex in graph[i]:\n",
        "      print(vertex)\n",
        "      print(\"\\n\")"
      ],
      "metadata": {
        "id": "Sz13yHwpz2Ll"
      },
      "execution_count": null,
      "outputs": []
    },
    {
      "cell_type": "code",
      "source": [],
      "metadata": {
        "id": "Ze7OfW2NTCuZ"
      },
      "execution_count": null,
      "outputs": []
    },
    {
      "cell_type": "code",
      "source": [
        "check = {1: [(2,2), (3,1), (4,3)]}\n",
        "for vertices in check[1]:\n",
        "  print (vertices[0], vertices[1])\n"
      ],
      "metadata": {
        "colab": {
          "base_uri": "https://localhost:8080/"
        },
        "id": "0O4yo3S9-QFH",
        "outputId": "ebba22a5-08ab-419a-f887-141270e28176"
      },
      "execution_count": null,
      "outputs": [
        {
          "output_type": "stream",
          "name": "stdout",
          "text": [
            "2 2\n",
            "3 1\n",
            "4 3\n"
          ]
        }
      ]
    },
    {
      "cell_type": "code",
      "source": [
        "cc = {}\n",
        "cc[8] = 0\n",
        "cc[6] = 4\n",
        "cc[7] = 5\n",
        "cc[5] = 6\n",
        "g={3:[(5,6),(6,7)] }\n",
        "d[3] = {}\n",
        "\n",
        "for v in g[3]:\n",
        "  cost_v = []\n",
        "  dd = []\n",
        "  tup = v\n",
        "  print(tup[0], tup[1])\n",
        "  cost_v.append(tup[1] + cc[tup[0]])\n",
        "  dd.append(tup[0])\n",
        "  print(cost_v)\n",
        "  cc[3] = min(cost_v)\n",
        "  d[3] = dd[cost_v.index(cc[3])]\n",
        "  print(cc)"
      ],
      "metadata": {
        "colab": {
          "base_uri": "https://localhost:8080/"
        },
        "id": "O84pTySy0PY4",
        "outputId": "46f0cdfb-9629-4482-8540-fa9051c9ad82"
      },
      "execution_count": null,
      "outputs": [
        {
          "output_type": "stream",
          "name": "stdout",
          "text": [
            "5 6\n",
            "[12]\n",
            "{8: 0, 6: 4, 7: 5, 5: 6, 3: 12}\n",
            "6 7\n",
            "[11]\n",
            "{8: 0, 6: 4, 7: 5, 5: 6, 3: 11}\n"
          ]
        }
      ]
    },
    {
      "cell_type": "code",
      "source": [
        "print(cc)"
      ],
      "metadata": {
        "colab": {
          "base_uri": "https://localhost:8080/"
        },
        "id": "faC0gr3R07g7",
        "outputId": "45c5c6d9-c457-4af0-efdb-f02c1acf2454"
      },
      "execution_count": null,
      "outputs": [
        {
          "output_type": "stream",
          "name": "stdout",
          "text": [
            "{8: 0, 6: 4, 7: 5, 5: 6, 3: 11}\n"
          ]
        }
      ]
    },
    {
      "cell_type": "code",
      "source": [
        "print(d[3])\n",
        "  dd.append(tup[0])\n",
        "d[3] = dd[cost_v.index(cc[3])]"
      ],
      "metadata": {
        "colab": {
          "base_uri": "https://localhost:8080/"
        },
        "id": "k3Kvd611N_lQ",
        "outputId": "866cf8e4-e044-45ad-b2d4-3f5cbae2c3bb"
      },
      "execution_count": null,
      "outputs": [
        {
          "output_type": "stream",
          "name": "stdout",
          "text": [
            "6\n"
          ]
        }
      ]
    },
    {
      "cell_type": "code",
      "source": [
        "  dd.append(tup[0])\n",
        "for i in range(len(graph.keys()), 0, -1):\n",
        "  print(i)"
      ],
      "metadata": {
        "colab": {
          "base_uri": "https://localhost:8080/"
        },
        "id": "usoZDj6KPLuY",
        "outputId": "58ce3006-365f-45b3-984a-45bbd54548a9"
      },
      "execution_count": null,
      "outputs": [
        {
          "output_type": "stream",
          "name": "stdout",
          "text": [
            "8\n",
            "7\n",
            "6\n",
            "5\n",
            "4\n",
            "3\n",
            "2\n",
            "1\n"
          ]
        }
      ]
    },
    {
      "cell_type": "code",
      "source": [
        "### YT"
      ],
      "metadata": {
        "id": "2QneA82qP1S7"
      },
      "execution_count": null,
      "outputs": []
    },
    {
      "cell_type": "code",
      "source": [
        "def multi_stg_graph(g, n, stages):\n",
        "  cost = [0]* (n+1)\n",
        "  d = [0]* (n+1)\n",
        "  path = [0]* (stages+1)\n",
        "\n",
        "  cost[n] = 0\n",
        "\n",
        "  for i in range(n-1, 0, -1):\n",
        "    min = float('inf')\n",
        "    for j in range(i+1, n+1):\n",
        "      if g[i][j]!=0 and g[i][j]+cost[j] < min:\n",
        "        min = g[i][j]+cost[j]\n",
        "        d[i] = j\n",
        "    cost[i] = min\n",
        "\n",
        "  path[1] = 1\n",
        "  path[stages] = n\n",
        "  for i in range(2, stages):\n",
        "    path[i] = d[i-1]\n",
        "  print(path, \"\\n\", d, \"\\n\",cost)\n"
      ],
      "metadata": {
        "id": "xHcUKgsqXL5U"
      },
      "execution_count": null,
      "outputs": []
    },
    {
      "cell_type": "code",
      "source": [
        "g = [[0,0,0,0,0,0,0,0,0],\n",
        "     [0,0,2,1,3,0,0,0,0],\n",
        "     [0,0,0,0,0,2,3,0,0],\n",
        "     [0,0,0,0,0,6,7,0,0],\n",
        "     [0,0,0,0,0,6,8,9,0],\n",
        "     [0,0,0,0,0,0,0,0,6],\n",
        "     [0,0,0,0,0,0,0,0,4],\n",
        "     [0,0,0,0,0,0,0,0,5],\n",
        "     [0,0,0,0,0,0,0,0,0]]\n",
        "\n",
        "multi_stg_graph(g, 8, 4)\n",
        "#graph_3 = {\n",
        "#    1: [(2,2), (3,1), (4,3)],\n",
        "#    2: [(5,2), (6,3)],\n",
        "#    3: [(5,6), (6,7)],\n",
        "#    4: [(5,6), (6,8), (7,9)],\n",
        "#    5: [(8,6)],\n",
        "#    6: [(8,4)],\n",
        "#    7: [(8,5)],\n",
        "#    8: []\n",
        "#}"
      ],
      "metadata": {
        "colab": {
          "base_uri": "https://localhost:8080/"
        },
        "id": "8kDMGMC_amv8",
        "outputId": "fba3d34c-38f6-40b2-d8f4-ddbe84322c45"
      },
      "execution_count": null,
      "outputs": [
        {
          "output_type": "stream",
          "name": "stdout",
          "text": [
            "[0, 1, 2, 6, 8] \n",
            " [0, 2, 6, 6, 5, 8, 8, 8, 0] \n",
            " [0, 9, 7, 11, 12, 6, 4, 5, 0]\n"
          ]
        }
      ]
    },
    {
      "cell_type": "code",
      "source": [
        "n = 8\n",
        "for i in range(n, 0, -1):\n",
        "  print(i)"
      ],
      "metadata": {
        "colab": {
          "base_uri": "https://localhost:8080/"
        },
        "id": "JyLjul_rbsco",
        "outputId": "320f4a3d-196d-4ce0-fc94-fdc0878d5042"
      },
      "execution_count": null,
      "outputs": [
        {
          "output_type": "stream",
          "name": "stdout",
          "text": [
            "8\n",
            "7\n",
            "6\n",
            "5\n",
            "4\n",
            "3\n",
            "2\n",
            "1\n"
          ]
        }
      ]
    },
    {
      "cell_type": "code",
      "source": [],
      "metadata": {
        "id": "nz52n__wbtyN"
      },
      "execution_count": null,
      "outputs": []
    }
  ]
}