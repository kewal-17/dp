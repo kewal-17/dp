{
  "nbformat": 4,
  "nbformat_minor": 0,
  "metadata": {
    "colab": {
      "provenance": [],
      "authorship_tag": "ABX9TyN4iR6/X1UgzJcVY/CGzHAI",
      "include_colab_link": true
    },
    "kernelspec": {
      "name": "python3",
      "display_name": "Python 3"
    },
    "language_info": {
      "name": "python"
    }
  },
  "cells": [
    {
      "cell_type": "markdown",
      "metadata": {
        "id": "view-in-github",
        "colab_type": "text"
      },
      "source": [
        "<a href=\"https://colab.research.google.com/github/kewal-17/dp/blob/main/Fibonacci.ipynb\" target=\"_parent\"><img src=\"https://colab.research.google.com/assets/colab-badge.svg\" alt=\"Open In Colab\"/></a>"
      ]
    },
    {
      "cell_type": "code",
      "execution_count": null,
      "metadata": {
        "id": "nt7ImS1A40yt"
      },
      "outputs": [],
      "source": [
        "def fibonacci_recursive(n):\n",
        "  if n <= 1:\n",
        "    return n\n",
        "  else:\n",
        "    return fibonacci_recursive(n-2) + fibonacci_recursive(n-1)"
      ]
    },
    {
      "cell_type": "code",
      "source": [
        "print(fibonacci_recursive(8))"
      ],
      "metadata": {
        "colab": {
          "base_uri": "https://localhost:8080/"
        },
        "id": "nBb3DOW55i_S",
        "outputId": "fd78bfd9-08f3-49ac-bc49-8add05daf030"
      },
      "execution_count": null,
      "outputs": [
        {
          "output_type": "stream",
          "name": "stdout",
          "text": [
            "21\n"
          ]
        }
      ]
    },
    {
      "cell_type": "code",
      "source": [
        "def fibonacci_non_recursive(n):\n",
        "  if n <= 1:\n",
        "    return n\n",
        "  fib = {}\n",
        "  fib[0] = 0\n",
        "  fib[1] = 1\n",
        "  for i in range(2,n+1):\n",
        "    fib[i] = fib[i-2] + fib[i-1]\n",
        "  return fib[n]"
      ],
      "metadata": {
        "id": "ZI3EUd-_5m-W"
      },
      "execution_count": null,
      "outputs": []
    },
    {
      "cell_type": "code",
      "source": [
        "print(fibonacci_non_recursive(8))"
      ],
      "metadata": {
        "colab": {
          "base_uri": "https://localhost:8080/"
        },
        "id": "mHrsIM7B_xnK",
        "outputId": "5e9b7f48-e80e-4813-8d27-12f874a3aef9"
      },
      "execution_count": null,
      "outputs": [
        {
          "output_type": "stream",
          "name": "stdout",
          "text": [
            "21\n"
          ]
        }
      ]
    },
    {
      "cell_type": "code",
      "source": [],
      "metadata": {
        "id": "u-idqkfj_1d8"
      },
      "execution_count": null,
      "outputs": []
    }
  ]
}