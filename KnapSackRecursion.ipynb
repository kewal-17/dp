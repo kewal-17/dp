{
  "nbformat": 4,
  "nbformat_minor": 0,
  "metadata": {
    "colab": {
      "provenance": [],
      "authorship_tag": "ABX9TyO3niMYwo69HSfrXkGNtXyS",
      "include_colab_link": true
    },
    "kernelspec": {
      "name": "python3",
      "display_name": "Python 3"
    },
    "language_info": {
      "name": "python"
    }
  },
  "cells": [
    {
      "cell_type": "markdown",
      "metadata": {
        "id": "view-in-github",
        "colab_type": "text"
      },
      "source": [
        "<a href=\"https://colab.research.google.com/github/kewal-17/dp/blob/main/KnapSackRecursion.ipynb\" target=\"_parent\"><img src=\"https://colab.research.google.com/assets/colab-badge.svg\" alt=\"Open In Colab\"/></a>"
      ]
    },
    {
      "cell_type": "code",
      "execution_count": null,
      "metadata": {
        "id": "icIMngloqihd"
      },
      "outputs": [],
      "source": [
        "# This will give max profit , not which elements\n",
        "\n",
        "def knapsack_recursive(weights, profits, knapsack_wt, item):\n",
        "  # Base Condition\n",
        "  if item < 0 or knapsack_wt == 0:\n",
        "    return 0\n",
        "\n",
        "  # Exclude the item\n",
        "  if weights[item] > knapsack_wt:\n",
        "    return knapsack_recursive(weights, profits, knapsack_wt, item-1)\n",
        "  else: # Include the item\n",
        "    return max(knapsack_recursive(weights, profits, knapsack_wt, item-1), profits[item]+knapsack_recursive(weights, profits, knapsack_wt-weights[item], item-1))"
      ]
    },
    {
      "cell_type": "code",
      "source": [
        "weights = [8,2,4]\n",
        "profit = [6,8,7]\n",
        "knapsack_wt = 8\n",
        "items = 3\n",
        "\n",
        "#weights = [2,3,4,5]\n",
        "#profit = [1,2,5,6]\n",
        "#knapsack_wt = 8\n",
        "#items = 4"
      ],
      "metadata": {
        "id": "GXrSupiM5S2D"
      },
      "execution_count": null,
      "outputs": []
    },
    {
      "cell_type": "code",
      "source": [
        "print(knapsack_recursive(weights, profit, knapsack_wt, items-1))"
      ],
      "metadata": {
        "colab": {
          "base_uri": "https://localhost:8080/"
        },
        "id": "5cFG_i7G6Dco",
        "outputId": "f40897a2-cbb5-497a-f073-946fb993be12"
      },
      "execution_count": null,
      "outputs": [
        {
          "output_type": "stream",
          "name": "stdout",
          "text": [
            "15\n"
          ]
        }
      ]
    }
  ]
}