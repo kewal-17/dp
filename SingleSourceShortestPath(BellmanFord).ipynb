{
  "nbformat": 4,
  "nbformat_minor": 0,
  "metadata": {
    "colab": {
      "provenance": [],
      "authorship_tag": "ABX9TyMSQ0mAOJntiqHYWHeNiX4O",
      "include_colab_link": true
    },
    "kernelspec": {
      "name": "python3",
      "display_name": "Python 3"
    },
    "language_info": {
      "name": "python"
    }
  },
  "cells": [
    {
      "cell_type": "markdown",
      "metadata": {
        "id": "view-in-github",
        "colab_type": "text"
      },
      "source": [
        "<a href=\"https://colab.research.google.com/github/kewal-17/dp/blob/main/SingleSourceShortestPath(BellmanFord).ipynb\" target=\"_parent\"><img src=\"https://colab.research.google.com/assets/colab-badge.svg\" alt=\"Open In Colab\"/></a>"
      ]
    },
    {
      "cell_type": "code",
      "execution_count": null,
      "metadata": {
        "id": "jEIA0EOwrpxe"
      },
      "outputs": [],
      "source": [
        "def bellman_ford(g, vertices, source):\n",
        "  distance = [float(\"inf\")] * vertices\n",
        "  distance[source] = 0\n",
        "  for i in range (vertices-1):\n",
        "    print(distance)\n",
        "    for u,v,w in g:\n",
        "      if distance[v] > (distance[u] + w):\n",
        "        distance[v] = distance[u] + w\n",
        "      #else:\n",
        "        #distance[v] = distance[v]\n",
        "  print(distance)\n",
        "  print(\"final relaxation\")\n",
        "  for u,v,w in g:\n",
        "    if distance[v] > (distance[u] + w):\n",
        "        distance = []\n",
        "        break\n",
        "  return distance"
      ]
    },
    {
      "cell_type": "code",
      "source": [
        "vertices = 5"
      ],
      "metadata": {
        "id": "PtMRo9-ozvQv"
      },
      "execution_count": null,
      "outputs": []
    },
    {
      "cell_type": "code",
      "source": [
        "g = []\n",
        "g.append([0,1,-1])\n",
        "g.append([0, 2, 4])\n",
        "g.append([1, 2, 3])\n",
        "g.append([1, 3, 2])\n",
        "g.append([1, 4, 2])\n",
        "g.append([3, 2, 5])\n",
        "g.append([3, 1, 1])\n",
        "g.append([4, 3, -3])"
      ],
      "metadata": {
        "id": "FrbSy2FH0S9Y"
      },
      "execution_count": null,
      "outputs": []
    },
    {
      "cell_type": "code",
      "source": [
        "g"
      ],
      "metadata": {
        "colab": {
          "base_uri": "https://localhost:8080/"
        },
        "id": "ZEGVRisJ0nxm",
        "outputId": "f5d75ede-c4ec-4144-9bff-6a58d68a763a"
      },
      "execution_count": null,
      "outputs": [
        {
          "output_type": "execute_result",
          "data": {
            "text/plain": [
              "[[0, 1, -1],\n",
              " [0, 2, 4],\n",
              " [1, 2, 3],\n",
              " [1, 3, 2],\n",
              " [1, 4, 2],\n",
              " [3, 2, 5],\n",
              " [3, 1, 1],\n",
              " [4, 3, -3]]"
            ]
          },
          "metadata": {},
          "execution_count": 61
        }
      ]
    },
    {
      "cell_type": "code",
      "source": [
        "distance = bellman_ford(g,vertices,0) # for 0 vertex\n",
        "\n",
        "if distance:\n",
        "  print(distance)\n",
        "else:\n",
        "  print(\"negative cycle exists\")"
      ],
      "metadata": {
        "colab": {
          "base_uri": "https://localhost:8080/"
        },
        "id": "mv0vR9p80oNP",
        "outputId": "0ffd3c1e-9862-42b3-8ed0-e8e5e34741f2"
      },
      "execution_count": null,
      "outputs": [
        {
          "output_type": "stream",
          "name": "stdout",
          "text": [
            "[0, inf, inf, inf, inf]\n",
            "[0, -1, 2, -2, 1]\n",
            "[0, -1, 2, -2, 1]\n",
            "[0, -1, 2, -2, 1]\n",
            "[0, -1, 2, -2, 1]\n",
            "final relaxation\n",
            "[0, -1, 2, -2, 1]\n"
          ]
        }
      ]
    },
    {
      "cell_type": "code",
      "source": [
        "#distances = [float(\"inf\")] * vertices\n",
        "  #return distances"
      ],
      "metadata": {
        "id": "fTkl06G_1ZpC"
      },
      "execution_count": null,
      "outputs": []
    },
    {
      "cell_type": "code",
      "source": [
        "#distances"
      ],
      "metadata": {
        "colab": {
          "base_uri": "https://localhost:8080/"
        },
        "id": "Z2uCX19y1aPT",
        "outputId": "e94ec238-165f-4fc1-fb0e-8f2833a18de8"
      },
      "execution_count": null,
      "outputs": [
        {
          "output_type": "execute_result",
          "data": {
            "text/plain": [
              "[inf, inf, inf, inf]"
            ]
          },
          "metadata": {},
          "execution_count": 9
        }
      ]
    },
    {
      "cell_type": "code",
      "source": [
        "#for u,v,w in g:\n",
        "  #print (u,v,w)"
      ],
      "metadata": {
        "colab": {
          "base_uri": "https://localhost:8080/"
        },
        "id": "iOot2FoU1cTK",
        "outputId": "f85731e8-8486-4f15-dfaa-babed1e7544f"
      },
      "execution_count": null,
      "outputs": [
        {
          "output_type": "stream",
          "name": "stdout",
          "text": [
            "0 1 -1\n",
            "0 2 4\n",
            "1 2 3\n",
            "1 3 2\n",
            "1 4 2\n",
            "3 2 5\n",
            "3 1 1\n",
            "4 3 -3\n"
          ]
        }
      ]
    },
    {
      "cell_type": "code",
      "source": [
        "g1 = []\n",
        "g1.append([0,1,5])\n",
        "g1.append([1,2,1])\n",
        "g1.append([1,3,2])\n",
        "g1.append([2,4,1])\n",
        "g1.append([4,3,-1])\n",
        "g1.append([3,5,2])\n",
        "g1.append([5,4,-3])"
      ],
      "metadata": {
        "id": "Jlv67PQz7e7X"
      },
      "execution_count": null,
      "outputs": []
    },
    {
      "cell_type": "code",
      "source": [
        "distance = bellman_ford(g1,6,0) # for 0 vertex\n",
        "\n",
        "if distance:\n",
        "  print(distance)\n",
        "else:\n",
        "  print(\"negative cycle exists\")"
      ],
      "metadata": {
        "colab": {
          "base_uri": "https://localhost:8080/"
        },
        "id": "CWot7GUw77ji",
        "outputId": "f15d54ae-12a4-4d0d-d8f9-f48be7d40d2f"
      },
      "execution_count": null,
      "outputs": [
        {
          "output_type": "stream",
          "name": "stdout",
          "text": [
            "[0, inf, inf, inf, inf, inf]\n",
            "[0, 5, 6, 6, 5, 8]\n",
            "[0, 5, 6, 4, 3, 6]\n",
            "[0, 5, 6, 2, 1, 4]\n",
            "[0, 5, 6, 0, -1, 2]\n",
            "[0, 5, 6, -2, -3, 0]\n",
            "final relaxation\n",
            "negative cycle exists\n"
          ]
        }
      ]
    },
    {
      "cell_type": "code",
      "source": [
        "for u,v, w in g1:\n",
        "  print(u,v,w)"
      ],
      "metadata": {
        "colab": {
          "base_uri": "https://localhost:8080/"
        },
        "id": "aDla9nRp8vBg",
        "outputId": "806e69ae-3d68-4e0b-9f8a-b186212d35b2"
      },
      "execution_count": null,
      "outputs": [
        {
          "output_type": "stream",
          "name": "stdout",
          "text": [
            "0 1 5\n",
            "1 2 1\n",
            "1 3 2\n",
            "2 4 1\n",
            "4 3 -1\n",
            "3 5 2\n",
            "5 4 -3\n"
          ]
        }
      ]
    },
    {
      "cell_type": "code",
      "source": [
        "g1"
      ],
      "metadata": {
        "colab": {
          "base_uri": "https://localhost:8080/"
        },
        "id": "6BgJMw_f8yMe",
        "outputId": "76e03352-74f5-4bcd-a471-3542c9bf0424"
      },
      "execution_count": null,
      "outputs": [
        {
          "output_type": "execute_result",
          "data": {
            "text/plain": [
              "[[0, 1, 5], [1, 2, 1], [1, 3, 2], [2, 4, 1], [4, 3, -1], [3, 5, 2], [5, 4, -3]]"
            ]
          },
          "metadata": {},
          "execution_count": 55
        }
      ]
    },
    {
      "cell_type": "code",
      "source": [],
      "metadata": {
        "id": "mxIDc_SW9b-Z"
      },
      "execution_count": null,
      "outputs": []
    }
  ]
}